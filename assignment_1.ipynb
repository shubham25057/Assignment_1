{
 "cells": [
  {
   "cell_type": "code",
   "execution_count": 1,
   "id": "428ddb14-d6c2-4c2a-83f8-826a11d98bcd",
   "metadata": {},
   "outputs": [],
   "source": [
    "# Q.1.Ans\n",
    "My_str = 'Shubham'"
   ]
  },
  {
   "cell_type": "code",
   "execution_count": 2,
   "id": "bd91992a-9c64-41bf-bc72-e3d4e6e98f9e",
   "metadata": {},
   "outputs": [
    {
     "data": {
      "text/plain": [
       "'Shubham'"
      ]
     },
     "execution_count": 2,
     "metadata": {},
     "output_type": "execute_result"
    }
   ],
   "source": [
    "My_str"
   ]
  },
  {
   "cell_type": "code",
   "execution_count": 5,
   "id": "2b3c7d2e-2a54-425c-923b-281a6222e7cf",
   "metadata": {},
   "outputs": [],
   "source": [
    "list_1 = [1,3,4,'shubham','pwskill']"
   ]
  },
  {
   "cell_type": "code",
   "execution_count": 6,
   "id": "549b2e79-a79d-44be-aa12-54aca8264164",
   "metadata": {},
   "outputs": [
    {
     "data": {
      "text/plain": [
       "[1, 3, 4, 'shubham', 'pwskill']"
      ]
     },
     "execution_count": 6,
     "metadata": {},
     "output_type": "execute_result"
    }
   ],
   "source": [
    "list_1"
   ]
  },
  {
   "cell_type": "code",
   "execution_count": 7,
   "id": "b0a04ca5-e9df-4fa5-a44e-2c3ed009c9b7",
   "metadata": {},
   "outputs": [],
   "source": [
    "float_1 = 1.23"
   ]
  },
  {
   "cell_type": "code",
   "execution_count": 8,
   "id": "826a06a8-eecf-45a8-9f63-532b3059add5",
   "metadata": {},
   "outputs": [
    {
     "data": {
      "text/plain": [
       "1.23"
      ]
     },
     "execution_count": 8,
     "metadata": {},
     "output_type": "execute_result"
    }
   ],
   "source": [
    "float_1"
   ]
  },
  {
   "cell_type": "code",
   "execution_count": 9,
   "id": "16b6c589-d656-40e5-b949-3d212b3d8f32",
   "metadata": {},
   "outputs": [],
   "source": [
    "tuple_1 = (1,2,3,'shubham')"
   ]
  },
  {
   "cell_type": "code",
   "execution_count": 10,
   "id": "f39e113e-bad8-4a53-96d1-6d52952631fc",
   "metadata": {},
   "outputs": [
    {
     "data": {
      "text/plain": [
       "(1, 2, 3, 'shubham')"
      ]
     },
     "execution_count": 10,
     "metadata": {},
     "output_type": "execute_result"
    }
   ],
   "source": [
    "tuple_1"
   ]
  },
  {
   "cell_type": "code",
   "execution_count": 11,
   "id": "3d213838-a9b2-4977-91da-a0662649cc02",
   "metadata": {},
   "outputs": [],
   "source": [
    "# Question 2"
   ]
  },
  {
   "cell_type": "code",
   "execution_count": 12,
   "id": "911c2b1d-ec76-41ae-bc4a-1eca2d22b4da",
   "metadata": {},
   "outputs": [],
   "source": [
    "var1 = ' '"
   ]
  },
  {
   "cell_type": "code",
   "execution_count": 13,
   "id": "449d3475-64a5-4fb4-8af7-4891c036be09",
   "metadata": {},
   "outputs": [
    {
     "data": {
      "text/plain": [
       "str"
      ]
     },
     "execution_count": 13,
     "metadata": {},
     "output_type": "execute_result"
    }
   ],
   "source": [
    "type(var1)"
   ]
  },
  {
   "cell_type": "code",
   "execution_count": 14,
   "id": "e49835d1-7e56-45ad-88c3-3747202f6d24",
   "metadata": {},
   "outputs": [],
   "source": [
    "var2 ='[DS,ML,Python]'"
   ]
  },
  {
   "cell_type": "code",
   "execution_count": 15,
   "id": "32466029-15da-4c4f-b0ac-81416ce0780b",
   "metadata": {},
   "outputs": [
    {
     "data": {
      "text/plain": [
       "str"
      ]
     },
     "execution_count": 15,
     "metadata": {},
     "output_type": "execute_result"
    }
   ],
   "source": [
    "type(var2)"
   ]
  },
  {
   "cell_type": "code",
   "execution_count": 16,
   "id": "1da97f8c-1fed-498e-b10d-d0ea7858c987",
   "metadata": {},
   "outputs": [],
   "source": [
    "var3 = ['DS','ML','PYTHON']"
   ]
  },
  {
   "cell_type": "code",
   "execution_count": 17,
   "id": "4f4b100f-91fe-4fd5-946a-fc78fb526002",
   "metadata": {},
   "outputs": [
    {
     "data": {
      "text/plain": [
       "list"
      ]
     },
     "execution_count": 17,
     "metadata": {},
     "output_type": "execute_result"
    }
   ],
   "source": [
    "type(var3)"
   ]
  },
  {
   "cell_type": "code",
   "execution_count": 18,
   "id": "61d6eeb8-6cf9-40a6-85f8-8e05609d0a10",
   "metadata": {},
   "outputs": [],
   "source": [
    "var4 = 1"
   ]
  },
  {
   "cell_type": "code",
   "execution_count": 19,
   "id": "a31c5d8d-fc96-4b5d-bae3-a638e700ad0c",
   "metadata": {},
   "outputs": [
    {
     "data": {
      "text/plain": [
       "int"
      ]
     },
     "execution_count": 19,
     "metadata": {},
     "output_type": "execute_result"
    }
   ],
   "source": [
    "type(var4)"
   ]
  },
  {
   "cell_type": "code",
   "execution_count": 20,
   "id": "4c00f211-7433-436d-acb2-d4304adbf324",
   "metadata": {},
   "outputs": [],
   "source": [
    "# Question 3"
   ]
  },
  {
   "cell_type": "code",
   "execution_count": 21,
   "id": "74b27004-8728-4f2e-bbec-685a9d0ee9fc",
   "metadata": {},
   "outputs": [],
   "source": [
    "# / this is division operator"
   ]
  },
  {
   "cell_type": "code",
   "execution_count": 22,
   "id": "4e84c4f9-5b58-4983-8d27-fa95a4d3a67f",
   "metadata": {},
   "outputs": [],
   "source": [
    "b = 5/4"
   ]
  },
  {
   "cell_type": "code",
   "execution_count": 23,
   "id": "533a7211-5aaf-4b3f-9fc7-1f2427d1341d",
   "metadata": {},
   "outputs": [
    {
     "data": {
      "text/plain": [
       "1.25"
      ]
     },
     "execution_count": 23,
     "metadata": {},
     "output_type": "execute_result"
    }
   ],
   "source": [
    "b"
   ]
  },
  {
   "cell_type": "code",
   "execution_count": 24,
   "id": "d3e42b80-70ee-4176-bdbb-b768687ef301",
   "metadata": {},
   "outputs": [],
   "source": [
    "# % this is modulus operator"
   ]
  },
  {
   "cell_type": "code",
   "execution_count": 25,
   "id": "5c8b8fcc-62af-4515-95e4-7c2936034dc1",
   "metadata": {},
   "outputs": [],
   "source": [
    "c = 5%4"
   ]
  },
  {
   "cell_type": "code",
   "execution_count": 26,
   "id": "51292b2c-8d5a-4e17-8322-2141d50a131b",
   "metadata": {},
   "outputs": [
    {
     "data": {
      "text/plain": [
       "1"
      ]
     },
     "execution_count": 26,
     "metadata": {},
     "output_type": "execute_result"
    }
   ],
   "source": [
    "c"
   ]
  },
  {
   "cell_type": "code",
   "execution_count": 27,
   "id": "f9d75ecc-5e37-4b4c-9e06-65ccdd5bed0b",
   "metadata": {},
   "outputs": [],
   "source": [
    "# // this is floor division operator"
   ]
  },
  {
   "cell_type": "code",
   "execution_count": 28,
   "id": "ca1dad68-74ef-4925-8d70-40c3e6a1e9c5",
   "metadata": {},
   "outputs": [],
   "source": [
    "d = 5//2"
   ]
  },
  {
   "cell_type": "code",
   "execution_count": 29,
   "id": "06e9fe4b-0aa1-46ba-a3f9-683994ea10c5",
   "metadata": {},
   "outputs": [
    {
     "data": {
      "text/plain": [
       "2"
      ]
     },
     "execution_count": 29,
     "metadata": {},
     "output_type": "execute_result"
    }
   ],
   "source": [
    "d"
   ]
  },
  {
   "cell_type": "code",
   "execution_count": 30,
   "id": "2a377a09-f2b3-4142-84d2-1edd00c030cf",
   "metadata": {},
   "outputs": [],
   "source": [
    "# ** this is expontential operator"
   ]
  },
  {
   "cell_type": "code",
   "execution_count": 31,
   "id": "d80392f8-52e4-464a-8fb1-29bdae8c5140",
   "metadata": {},
   "outputs": [],
   "source": [
    "e = 2**3"
   ]
  },
  {
   "cell_type": "code",
   "execution_count": 32,
   "id": "4c750d34-5bf7-44c3-a083-0a32ab33fa61",
   "metadata": {},
   "outputs": [
    {
     "data": {
      "text/plain": [
       "8"
      ]
     },
     "execution_count": 32,
     "metadata": {},
     "output_type": "execute_result"
    }
   ],
   "source": [
    "e"
   ]
  },
  {
   "cell_type": "code",
   "execution_count": 33,
   "id": "003ee569-bc33-4b17-8f9a-120395870e0b",
   "metadata": {},
   "outputs": [],
   "source": [
    "# Question 4"
   ]
  },
  {
   "cell_type": "code",
   "execution_count": 37,
   "id": "3d3dd543-760a-4750-b3ea-4c3317f7f590",
   "metadata": {},
   "outputs": [
    {
     "name": "stdout",
     "output_type": "stream",
     "text": [
      "1\n",
      "2.3\n",
      "shubham\n",
      "True\n",
      "5\n",
      "4.5\n",
      "Singh\n",
      "False\n",
      "3\n",
      "3.43\n"
     ]
    }
   ],
   "source": [
    "list_2 = [1,2.3,'shubham',True,5,4.5,'Singh',False,3,3.43]\n",
    "for i in list_2 :\n",
    "    print(i)\n",
    "          "
   ]
  },
  {
   "cell_type": "code",
   "execution_count": 38,
   "id": "ba3ba46a-36d2-4e8f-bf13-d84e9df36569",
   "metadata": {},
   "outputs": [
    {
     "name": "stdout",
     "output_type": "stream",
     "text": [
      "<class 'int'>\n",
      "<class 'float'>\n",
      "<class 'str'>\n",
      "<class 'bool'>\n",
      "<class 'int'>\n",
      "<class 'float'>\n",
      "<class 'str'>\n",
      "<class 'bool'>\n",
      "<class 'int'>\n",
      "<class 'float'>\n"
     ]
    }
   ],
   "source": [
    "list_2 = [1,2.3,'shubham',True,5,4.5,'Singh',False,3,3.43]\n",
    "for i in list_2 :\n",
    "    print(type(i))"
   ]
  },
  {
   "cell_type": "code",
   "execution_count": 39,
   "id": "fd830051-c568-427d-bea8-7efd40b3c246",
   "metadata": {},
   "outputs": [],
   "source": [
    "# Question 5"
   ]
  },
  {
   "cell_type": "code",
   "execution_count": 1,
   "id": "a9a0af53-997a-461a-91dc-ad435452cecd",
   "metadata": {},
   "outputs": [
    {
     "name": "stdout",
     "output_type": "stream",
     "text": [
      "5\n"
     ]
    }
   ],
   "source": [
    "def check_divisibility(A, B):\n",
    "    count = 0\n",
    "    while A >= B:\n",
    "        A -= B\n",
    "        count += 1\n",
    "    return count\n",
    "\n",
    "A = 25\n",
    "B = 5\n",
    "print(check_divisibility(A,B))\n",
    "\n",
    "\n"
   ]
  },
  {
   "cell_type": "code",
   "execution_count": 2,
   "id": "6ba3755c-7403-4702-9f57-8d505a6a0a3e",
   "metadata": {},
   "outputs": [],
   "source": [
    "# Question 6"
   ]
  },
  {
   "cell_type": "code",
   "execution_count": 4,
   "id": "e5b1fd53-ca34-43df-8531-dc50c14dce31",
   "metadata": {},
   "outputs": [
    {
     "name": "stdout",
     "output_type": "stream",
     "text": [
      "3\n",
      "6\n",
      "9\n",
      "12\n",
      "15\n",
      "18\n",
      "21\n",
      "24\n"
     ]
    }
   ],
   "source": [
    "l=[1,2,3,4,5,6,7,8,9,10,11,12,13,14,15,16,17,18,19,20,21,22,23,24,25]\n",
    "for i in l:\n",
    "    if(i%3==0):\n",
    "        print(i)\n",
    "    "
   ]
  },
  {
   "cell_type": "code",
   "execution_count": 5,
   "id": "e587314c-b6ba-4705-8433-0f1146d7ab29",
   "metadata": {},
   "outputs": [],
   "source": [
    "# Question 7"
   ]
  },
  {
   "cell_type": "code",
   "execution_count": 6,
   "id": "fb49277d-acd2-46a1-8577-4c50b179e591",
   "metadata": {},
   "outputs": [],
   "source": [
    "# In mutable data type we can update the value of item of variable"
   ]
  },
  {
   "cell_type": "code",
   "execution_count": 7,
   "id": "72deeae2-24c4-4933-960f-77ae00f1e76a",
   "metadata": {},
   "outputs": [],
   "source": [
    "l=[1,2,3]"
   ]
  },
  {
   "cell_type": "code",
   "execution_count": 8,
   "id": "e4305b90-4b7d-4157-8b93-b4e39c055d8f",
   "metadata": {},
   "outputs": [
    {
     "data": {
      "text/plain": [
       "[1, 2, 3]"
      ]
     },
     "execution_count": 8,
     "metadata": {},
     "output_type": "execute_result"
    }
   ],
   "source": [
    "l"
   ]
  },
  {
   "cell_type": "code",
   "execution_count": 9,
   "id": "5b196b7b-c07d-4764-92d3-d5be27096786",
   "metadata": {},
   "outputs": [],
   "source": [
    "l[1]=9"
   ]
  },
  {
   "cell_type": "code",
   "execution_count": 10,
   "id": "30916445-8d4b-4fe4-8f9f-bbf0b1ada79b",
   "metadata": {},
   "outputs": [
    {
     "data": {
      "text/plain": [
       "[1, 9, 3]"
      ]
     },
     "execution_count": 10,
     "metadata": {},
     "output_type": "execute_result"
    }
   ],
   "source": [
    "l"
   ]
  },
  {
   "cell_type": "code",
   "execution_count": 11,
   "id": "3604c536-b62f-4ec1-96c2-8358e7f1f482",
   "metadata": {},
   "outputs": [],
   "source": [
    "# In Immutable  data type we can't update the value"
   ]
  },
  {
   "cell_type": "code",
   "execution_count": 12,
   "id": "eeb49cce-d180-4839-a850-80f0bdeccf56",
   "metadata": {},
   "outputs": [],
   "source": [
    "a=\"shubham\""
   ]
  },
  {
   "cell_type": "code",
   "execution_count": 13,
   "id": "d8b04fca-2397-431a-b66f-24af63200821",
   "metadata": {},
   "outputs": [
    {
     "data": {
      "text/plain": [
       "'shubham'"
      ]
     },
     "execution_count": 13,
     "metadata": {},
     "output_type": "execute_result"
    }
   ],
   "source": [
    "a"
   ]
  },
  {
   "cell_type": "code",
   "execution_count": 14,
   "id": "231ec238-ecc4-4511-82a6-0ee173ad4fb6",
   "metadata": {},
   "outputs": [
    {
     "data": {
      "text/plain": [
       "'u'"
      ]
     },
     "execution_count": 14,
     "metadata": {},
     "output_type": "execute_result"
    }
   ],
   "source": [
    "a[2]"
   ]
  },
  {
   "cell_type": "code",
   "execution_count": 15,
   "id": "b38eafde-ec69-4d99-a441-3bfb929fe6a8",
   "metadata": {},
   "outputs": [
    {
     "ename": "TypeError",
     "evalue": "'str' object does not support item assignment",
     "output_type": "error",
     "traceback": [
      "\u001b[0;31m---------------------------------------------------------------------------\u001b[0m",
      "\u001b[0;31mTypeError\u001b[0m                                 Traceback (most recent call last)",
      "Cell \u001b[0;32mIn[15], line 1\u001b[0m\n\u001b[0;32m----> 1\u001b[0m \u001b[43ma\u001b[49m\u001b[43m[\u001b[49m\u001b[38;5;241;43m2\u001b[39;49m\u001b[43m]\u001b[49m\u001b[38;5;241m=\u001b[39m\u001b[38;5;124m'\u001b[39m\u001b[38;5;124mt\u001b[39m\u001b[38;5;124m'\u001b[39m\n",
      "\u001b[0;31mTypeError\u001b[0m: 'str' object does not support item assignment"
     ]
    }
   ],
   "source": [
    "a[2]='t'"
   ]
  },
  {
   "cell_type": "code",
   "execution_count": null,
   "id": "3d5e3b01-c522-4d20-bd58-5529e227cbd6",
   "metadata": {},
   "outputs": [],
   "source": []
  }
 ],
 "metadata": {
  "kernelspec": {
   "display_name": "Python 3 (ipykernel)",
   "language": "python",
   "name": "python3"
  },
  "language_info": {
   "codemirror_mode": {
    "name": "ipython",
    "version": 3
   },
   "file_extension": ".py",
   "mimetype": "text/x-python",
   "name": "python",
   "nbconvert_exporter": "python",
   "pygments_lexer": "ipython3",
   "version": "3.10.8"
  }
 },
 "nbformat": 4,
 "nbformat_minor": 5
}
